{
 "cells": [
  {
   "cell_type": "markdown",
   "metadata": {},
   "source": [
    "## Preparing UPC Table"
   ]
  },
  {
   "cell_type": "markdown",
   "metadata": {},
   "source": [
    "This notebook takes in the table exported from the database with records only in the years 2015 and 2016. We keep only the `upc_code` column and `upc_description` column and only valid records that appear in the PPC table. The table is cleaned in the way that it:\n",
    "- Keep only the numbers and words in lowercase form. \n",
    "- Get rid of the UPC code suffix in the description. "
   ]
  },
  {
   "cell_type": "code",
   "execution_count": null,
   "metadata": {},
   "outputs": [],
   "source": [
    "import pandas as pd\n",
    "import warnings \n",
    "import re\n",
    "\n",
    "warnings.filterwarnings('ignore')"
   ]
  },
  {
   "cell_type": "markdown",
   "metadata": {},
   "source": [
    "### Part 1: Keep only the useful UPCs "
   ]
  },
  {
   "cell_type": "code",
   "execution_count": null,
   "metadata": {},
   "outputs": [],
   "source": [
    "# The table keeps only records in 2015 and 2016\n",
    "upc = pd.read_csv('./raw_data/pd_pos_all1516.csv', dtype=str)"
   ]
  },
  {
   "cell_type": "code",
   "execution_count": null,
   "metadata": {},
   "outputs": [],
   "source": [
    "upc.columns"
   ]
  },
  {
   "cell_type": "code",
   "execution_count": null,
   "metadata": {},
   "outputs": [],
   "source": [
    "upc.sample(3)"
   ]
  },
  {
   "cell_type": "markdown",
   "metadata": {},
   "source": [
    "We only care about UPC records that appear in PPC, the target table."
   ]
  },
  {
   "cell_type": "code",
   "execution_count": null,
   "metadata": {},
   "outputs": [],
   "source": [
    "ppc = pd.read_csv('./raw_data/ppc20152016.csv', dtype=str)"
   ]
  },
  {
   "cell_type": "code",
   "execution_count": null,
   "metadata": {},
   "outputs": [],
   "source": [
    "ppc.sample(3)"
   ]
  },
  {
   "cell_type": "code",
   "execution_count": null,
   "metadata": {},
   "outputs": [],
   "source": [
    "ppc = ppc.loc[(ppc['ec'] != '-70') & (ppc['ec'] != '-90')]"
   ]
  },
  {
   "cell_type": "markdown",
   "metadata": {},
   "source": [
    "Here we remove all PPC records with a match to EC code `-90` (low sale) or `-70` (no sale) because they are technically not a part of the challenge. PPC only covers items in the top 95% of sales, so we would be excluding these matches from public and private test set as well. \n",
    "\n",
    "However, we will keep `-80`(cannot determine the actual product) and `-99` (no acceptable matches) as they were, as these reasons for not assigning an FNDDS code are important to distinguish."
   ]
  },
  {
   "cell_type": "code",
   "execution_count": null,
   "metadata": {},
   "outputs": [],
   "source": [
    "valid_upc = set(ppc['upc'].tolist())"
   ]
  },
  {
   "cell_type": "code",
   "execution_count": null,
   "metadata": {},
   "outputs": [],
   "source": [
    "# Keep only the UPCs that appear in PPC table.\n",
    "upc = upc.loc[upc['upc'].isin(valid_upc)]"
   ]
  },
  {
   "cell_type": "markdown",
   "metadata": {},
   "source": [
    "### Part 2: Preprocess UPC table"
   ]
  },
  {
   "cell_type": "code",
   "execution_count": null,
   "metadata": {},
   "outputs": [],
   "source": [
    "# This is the description field before cleaning\n",
    "upc.iloc[0]['upcdesc']"
   ]
  },
  {
   "cell_type": "code",
   "execution_count": null,
   "metadata": {},
   "outputs": [],
   "source": [
    "# All UPC description has UPC code as suffix, which needs to be removed\n",
    "upc['upc_description'] = upc['upcdesc'].str.split('-').str[0]"
   ]
  },
  {
   "cell_type": "code",
   "execution_count": null,
   "metadata": {},
   "outputs": [],
   "source": [
    "# More text columns could be combined to the descriptions together\n",
    "\n",
    "# upc['deptid'] = upc['deptid'].str.split('-').str[1]\n",
    "# upc['aisle'] = upc['aisle'].str.split('-').str[1]\n",
    "\n",
    "# column_list = ['flavor', 'deptid', 'aisle', 'category', 'brand', 'manufacturer', 'parent']\n",
    "# for column in column_list:\n",
    "#     upc['upc_description'] = upc['upc_description'] + ' ' + upc[column]"
   ]
  },
  {
   "cell_type": "code",
   "execution_count": null,
   "metadata": {},
   "outputs": [],
   "source": [
    "# Remove punctuations and keep only numbers and lowercase letters\n",
    "def clean_text(txt):\n",
    "    return re.sub('[^A-Za-z0-9]+', ' ', str(txt).lower())"
   ]
  },
  {
   "cell_type": "code",
   "execution_count": null,
   "metadata": {},
   "outputs": [],
   "source": [
    "# Keep only the code and description for now\n",
    "upc_cleaned = upc[['upc', 'upc_description']]\n",
    "upc_cleaned['upc_description'] = upc_cleaned['upc_description'].apply(clean_text)"
   ]
  },
  {
   "cell_type": "code",
   "execution_count": null,
   "metadata": {},
   "outputs": [],
   "source": [
    "# This is the description field after cleaning\n",
    "upc_cleaned.iloc[0]['upc_description']"
   ]
  },
  {
   "cell_type": "code",
   "execution_count": null,
   "metadata": {},
   "outputs": [],
   "source": [
    "# Rename the column for consistency\n",
    "upc_cleaned = upc_cleaned.rename(columns={'upc': 'upc_code'})"
   ]
  },
  {
   "cell_type": "code",
   "execution_count": null,
   "metadata": {},
   "outputs": [],
   "source": [
    "# Some food descriptions are different across the years. They will be dropped here for now. \n",
    "# By default, 2015 record will be dropped\n",
    "upc_cleaned = upc_cleaned.drop_duplicates('upc_code')"
   ]
  },
  {
   "cell_type": "code",
   "execution_count": null,
   "metadata": {},
   "outputs": [],
   "source": [
    "# Output the table\n",
    "upc_cleaned.to_csv('upc_cleaned.csv', index=False)"
   ]
  },
  {
   "cell_type": "code",
   "execution_count": null,
   "metadata": {},
   "outputs": [],
   "source": [
    "# Just to have a look at the data\n",
    "upc_cleaned.head()"
   ]
  },
  {
   "cell_type": "code",
   "execution_count": null,
   "metadata": {},
   "outputs": [],
   "source": []
  }
 ],
 "metadata": {
  "kernelspec": {
   "display_name": "Python 3",
   "language": "python",
   "name": "python3"
  },
  "language_info": {
   "codemirror_mode": {
    "name": "ipython",
    "version": 3
   },
   "file_extension": ".py",
   "mimetype": "text/x-python",
   "name": "python",
   "nbconvert_exporter": "python",
   "pygments_lexer": "ipython3",
   "version": "3.7.9"
  }
 },
 "nbformat": 4,
 "nbformat_minor": 4
}
