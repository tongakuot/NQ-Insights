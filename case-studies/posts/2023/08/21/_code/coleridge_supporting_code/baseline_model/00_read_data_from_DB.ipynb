{
 "cells": [
  {
   "cell_type": "markdown",
   "metadata": {},
   "source": [
    "## Read Data from Database\n",
    "\n",
    "This notebook connects to the ADRF database and downloads all the data to raw_data folder and shows:\n",
    " - Table locations and how to load the data from the SQL database\n",
    " - How to save tables to a CSV file\n",
    " \n",
    "This is only for demonstration purpose showing how to connect database and use SQL query to read data. In practice, one could directly use or preprocess data from the query instead of saving and reading the data. Also, we will involve the core column in this baseline model pipeline. For detailed documentation, please refer to the IRI/FNDDS/PPC data dictionary for columns specifications."
   ]
  },
  {
   "cell_type": "code",
   "execution_count": null,
   "metadata": {},
   "outputs": [],
   "source": [
    "import sqlalchemy\n",
    "import pandas as pd"
   ]
  },
  {
   "cell_type": "code",
   "execution_count": null,
   "metadata": {},
   "outputs": [],
   "source": [
    "host = '<HOST>'\n",
    "DB_iri = 'ds_usda_iri'\n",
    "DB_fndds = 'ds_usda_fndds'"
   ]
  },
  {
   "cell_type": "code",
   "execution_count": null,
   "metadata": {},
   "outputs": [],
   "source": [
    "# Connect to FNDDS database\n",
    "connection = \"mssql+pyodbc://{}/{}?driver=ODBC+Driver+17+for+SQL+Server?;Trusted_Connection=Yes\".format(host, DB_fndds)\n",
    "conn = sqlalchemy.create_engine(connection)"
   ]
  },
  {
   "cell_type": "markdown",
   "metadata": {},
   "source": [
    "### Part 1: Reading FNDDS Data\n",
    "We will extract EC code and EC description from these tables."
   ]
  },
  {
   "cell_type": "code",
   "execution_count": null,
   "metadata": {},
   "outputs": [],
   "source": [
    "# Create main food description table\n",
    "query_main = '''\n",
    "SELECT * FROM dbo.mainfooddesc1516\n",
    "'''\n",
    "mainfooddesc1516 = pd.read_sql(query_main, conn)\n",
    "mainfooddesc1516.to_csv('raw_data/mainfooddesc1516.csv', index=False)"
   ]
  },
  {
   "cell_type": "code",
   "execution_count": null,
   "metadata": {},
   "outputs": [],
   "source": [
    "mainfooddesc1516.head()"
   ]
  },
  {
   "cell_type": "code",
   "execution_count": null,
   "metadata": {},
   "outputs": [],
   "source": [
    "# Create additional food description table\n",
    "query_add = '''\n",
    "SELECT * FROM dbo.addfooddesc1516\n",
    "'''\n",
    "addfooddesc1516 = pd.read_sql(query_add, conn)\n",
    "addfooddesc1516.to_csv('raw_data/addfooddesc1516.csv', index=False)"
   ]
  },
  {
   "cell_type": "code",
   "execution_count": null,
   "metadata": {},
   "outputs": [],
   "source": [
    "addfooddesc1516.head()"
   ]
  },
  {
   "cell_type": "code",
   "execution_count": null,
   "metadata": {},
   "outputs": [],
   "source": [
    "# Create ingredient description table\n",
    "query_ingred = '''\n",
    "SELECT * FROM dbo.fnddsingred1516\n",
    "'''\n",
    "fnddsingred1516 = pd.read_sql(query_ingred, conn)\n",
    "fnddsingred1516.to_csv('raw_data/fnddsingred1516.csv', index=False)"
   ]
  },
  {
   "cell_type": "code",
   "execution_count": null,
   "metadata": {},
   "outputs": [],
   "source": [
    "fnddsingred1516.head()"
   ]
  },
  {
   "cell_type": "markdown",
   "metadata": {},
   "source": [
    "### Part 2: Reading IRI Data\n",
    "We will extract UPC code and UPC description from this table。"
   ]
  },
  {
   "cell_type": "code",
   "execution_count": null,
   "metadata": {},
   "outputs": [],
   "source": [
    "# Connect to IRI database\n",
    "connection = \"mssql+pyodbc://{}/{}?driver=ODBC+Driver+17+for+SQL+Server?;Trusted_Connection=Yes\".format(host, DB_iri)\n",
    "conn = sqlalchemy.create_engine(connection)"
   ]
  },
  {
   "cell_type": "code",
   "execution_count": null,
   "metadata": {},
   "outputs": [],
   "source": [
    "# Create iri table\n",
    "# The IRI data is relatively big, this cell will take several miuntes to run\n",
    "# In order to access pd_master_all table, the table name should be changed to vw_pd_master_2016\n",
    "query_iri = '''\n",
    "SELECT * FROM dbo.vw_pd_pos_2016\n",
    "WHERE year = 2015 or year = 2016\n",
    "'''\n",
    "pd_pos_all = pd.read_sql(query_iri, conn)\n",
    "pd_pos_all.to_csv('raw_data/pd_pos_all1516.csv', index=False)"
   ]
  },
  {
   "cell_type": "code",
   "execution_count": null,
   "metadata": {},
   "outputs": [],
   "source": [
    "pd_pos_all.head()"
   ]
  },
  {
   "cell_type": "markdown",
   "metadata": {},
   "source": [
    "### Part 3：Reading PPC Data\n",
    "This is the crosswalk table between UPC code and EC code. It serves as the ground truth for the competition."
   ]
  },
  {
   "cell_type": "code",
   "execution_count": null,
   "metadata": {},
   "outputs": [],
   "source": [
    "# Create ppc table \n",
    "query_ppc = '''\n",
    "SELECT * FROM dbo.ppc20152016\n",
    "'''\n",
    "ppc20152016 = pd.read_sql(query_ppc, conn)\n",
    "ppc20152016.to_csv('raw_data/ppc20152016.csv', index=False)"
   ]
  },
  {
   "cell_type": "code",
   "execution_count": null,
   "metadata": {},
   "outputs": [],
   "source": [
    "ppc20152016.head()"
   ]
  }
 ],
 "metadata": {
  "kernelspec": {
   "display_name": "Python 3",
   "language": "python",
   "name": "python3"
  },
  "language_info": {
   "codemirror_mode": {
    "name": "ipython",
    "version": 3
   },
   "file_extension": ".py",
   "mimetype": "text/x-python",
   "name": "python",
   "nbconvert_exporter": "python",
   "pygments_lexer": "ipython3",
   "version": "3.8.3"
  }
 },
 "nbformat": 4,
 "nbformat_minor": 4
}
