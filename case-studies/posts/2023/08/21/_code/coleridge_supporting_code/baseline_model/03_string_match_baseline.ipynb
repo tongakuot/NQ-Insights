{
 "cells": [
  {
   "cell_type": "markdown",
   "metadata": {},
   "source": [
    "## String Match Baseline"
   ]
  },
  {
   "cell_type": "markdown",
   "metadata": {},
   "source": [
    "This notebook takes cleaned UPC and EC tables from Notebook 1 & 2 and uses TF-IDF cosine similarity as a string match baseline. This simple string match baseline is just for demonstration purpose and if run through the evaluation script, it would have a success@5 score of 0.661 and a NDCG@5 score of 0.388. For more details about the evaluation, please check the evaluation script in the shared folder."
   ]
  },
  {
   "cell_type": "code",
   "execution_count": null,
   "metadata": {},
   "outputs": [],
   "source": [
    "import pandas as pd \n",
    "import re\n",
    "import heapq\n",
    "\n",
    "from sklearn.metrics.pairwise import cosine_similarity\n",
    "from sklearn.feature_extraction.text import TfidfVectorizer"
   ]
  },
  {
   "cell_type": "code",
   "execution_count": null,
   "metadata": {},
   "outputs": [],
   "source": [
    "# This processed files are from notebook 01 and 02.\n",
    "upc = pd.read_csv('upc_cleaned.csv', dtype=str)\n",
    "ec = pd.read_csv('ec_cleaned.csv', dtype=str)\n",
    "ppc = pd.read_csv('./raw_data/ppc20152016.csv', dtype=str)\n",
    "\n",
    "# Some UPC code in PPC table was never in UPC table. They will be filtered here for now.\n",
    "# Don't filter this on EC table because there are custom ec_code that are not in EC table.\n",
    "ppc = ppc[ppc['upc'].isin(upc['upc_code'])]"
   ]
  },
  {
   "cell_type": "markdown",
   "metadata": {},
   "source": [
    "Custom EC codes are Westat-created codes that do not exist in FNDDS. Please refer to the Custom EC Codes spreadsheet available in the data documentation folder."
   ]
  },
  {
   "cell_type": "code",
   "execution_count": null,
   "metadata": {},
   "outputs": [],
   "source": [
    "# Randomaly sample 1K records from PPC table because the full match will be too expensive without blocking\n",
    "ppc_clip = ppc.sample(1000, random_state=2498)\n",
    "\n",
    "# Clip the UPC and EC tables accordingly.\n",
    "upc_set = set(ppc_clip['upc'].tolist())\n",
    "ec_set = set(ppc_clip['ec'].tolist())\n",
    "\n",
    "upc_clip = upc[upc['upc_code'].isin(upc_set)]\n",
    "ec_clip = ec[ec['ec_code'].isin(ec_set)]\n",
    "\n",
    "# Reset index so it's incremental\n",
    "upc_clip = upc_clip.reset_index()\n",
    "upc_clip.drop('index', axis=1, inplace=True)\n",
    "ec_clip = ec_clip.reset_index()\n",
    "ec_clip.drop('index', axis=1, inplace=True)\n",
    "\n",
    "# Fill missing value with empty string\n",
    "upc_clip = upc_clip.fillna(\"\")"
   ]
  },
  {
   "cell_type": "code",
   "execution_count": null,
   "metadata": {},
   "outputs": [],
   "source": [
    "# Just to have another look at the data\n",
    "upc_clip.head()"
   ]
  },
  {
   "cell_type": "code",
   "execution_count": null,
   "metadata": {},
   "outputs": [],
   "source": [
    "ec_clip.head()"
   ]
  },
  {
   "cell_type": "code",
   "execution_count": null,
   "metadata": {},
   "outputs": [],
   "source": [
    "def ngrams_analyzer(string):\n",
    "    string = re.sub(r'[,-./]', r'', string)\n",
    "    ngrams = zip(*[string[i:] for i in range(3)])  # N-Gram length is 3\n",
    "    return [''.join(ngram) for ngram in ngrams]\n",
    "\n",
    "def closest_description(ec, upc, similarity=0):\n",
    "    vectorizer = TfidfVectorizer(analyzer=ngrams_analyzer)\n",
    "    \n",
    "    #Apply the defined vectorizer\n",
    "    ec_desc = ec.ec_description\n",
    "    tfidf_matrix = vectorizer.fit_transform(ec_desc)\n",
    "    #Calculate the closest distance for each word\n",
    "    closest_desc=[]\n",
    "    closest_distance=[]\n",
    "    upc_desc_list=[]\n",
    "    # Iterate through the UPC table and compare the descriptions with each EC description\n",
    "    for index, row in upc.iterrows():\n",
    "        upc_desc = [row.upc_description]\n",
    "        upc_desc = vectorizer.transform(upc_desc)\n",
    "        cos_sim = cosine_similarity(upc_desc, tfidf_matrix)\n",
    "        # Find the top 5 closest matches\n",
    "        max_ = heapq.nlargest(5, cos_sim[0])\n",
    "        closest_index = [(i, j) for i, j in enumerate(cos_sim[0]) if j in max_]\n",
    "        if len(closest_index) > 5:\n",
    "            closest_index = closest_index[:5]\n",
    "        closest_desc.extend([ec_desc[x[0]] for x in closest_index])\n",
    "        closest_distance.extend([x[1] for x in closest_index])\n",
    "        upc_desc_list.extend([row.upc_description] * 5)\n",
    "    \n",
    "    closest_df=pd.DataFrame({'upc_desc':upc_desc_list,'closest_desc':closest_desc,'closest_distance':closest_distance})\n",
    "    # The record will be labelled no match if the similarity is below certain threshold\n",
    "    closest_df['closest_desc']=[row.closest_desc if row.closest_distance>=similarity else 'No Match' for index, row in closest_df.iterrows() ]\n",
    "    return closest_df\n",
    "\n",
    "\n",
    "def with_code(match_df, ec, upc):\n",
    "    # This function filters out unmatched pairs and connects the description to the corresponding codes\n",
    "    with_code = match_df[~(match_df.closest_desc == 'No Match')]\n",
    "    with_code = with_code.merge(ec, left_on='closest_desc', right_on='ec_description', how='left')\n",
    "    with_code = with_code.merge(upc, left_on='upc_desc', right_on='upc_description', how='left')\n",
    "    with_code = with_code.drop_duplicates()\n",
    "   \n",
    "    return with_code"
   ]
  },
  {
   "cell_type": "code",
   "execution_count": null,
   "metadata": {},
   "outputs": [],
   "source": [
    "%%time\n",
    "match_df = closest_description(ec_clip, upc_clip)"
   ]
  },
  {
   "cell_type": "code",
   "execution_count": null,
   "metadata": {},
   "outputs": [],
   "source": [
    "match_df.head()"
   ]
  },
  {
   "cell_type": "code",
   "execution_count": null,
   "metadata": {},
   "outputs": [],
   "source": [
    "# Let's check the match with the highest score\n",
    "match_df[match_df['closest_distance'] == match_df['closest_distance'].max()]"
   ]
  },
  {
   "cell_type": "code",
   "execution_count": null,
   "metadata": {},
   "outputs": [],
   "source": [
    "%%time\n",
    "result = with_code(match_df, ec_clip, upc_clip)\n",
    "result = result[['upc_code', 'upc_description', 'ec_code', 'ec_description', 'closest_distance']]"
   ]
  },
  {
   "cell_type": "code",
   "execution_count": null,
   "metadata": {},
   "outputs": [],
   "source": [
    "result.head()"
   ]
  },
  {
   "cell_type": "code",
   "execution_count": null,
   "metadata": {},
   "outputs": [],
   "source": [
    "# Clean the table in the format of PPC table\n",
    "result = result.rename(columns={'upc_code': 'upc', 'ec_code': 'ec'})\n",
    "clean_result = result[['upc', 'ec']]\n",
    "clean_result.to_csv('result/string_submission.csv', index=False)"
   ]
  },
  {
   "cell_type": "code",
   "execution_count": null,
   "metadata": {},
   "outputs": [],
   "source": [
    "clean_result.head()"
   ]
  },
  {
   "cell_type": "code",
   "execution_count": null,
   "metadata": {},
   "outputs": [],
   "source": [
    "# Output the files for evaluation. In practice, the ppc table will contain the same UPC codes as in the UPC table.\n",
    "ppc_clip[['upc', 'ec']].to_csv('result/string_ground_truth.csv', index=False)"
   ]
  },
  {
   "cell_type": "code",
   "execution_count": null,
   "metadata": {},
   "outputs": [],
   "source": [
    "ppc_clip.head()"
   ]
  },
  {
   "cell_type": "code",
   "execution_count": null,
   "metadata": {},
   "outputs": [],
   "source": []
  },
  {
   "cell_type": "code",
   "execution_count": null,
   "metadata": {},
   "outputs": [],
   "source": []
  },
  {
   "cell_type": "code",
   "execution_count": null,
   "metadata": {},
   "outputs": [],
   "source": []
  }
 ],
 "metadata": {
  "kernelspec": {
   "display_name": "Python 3",
   "language": "python",
   "name": "python3"
  },
  "language_info": {
   "codemirror_mode": {
    "name": "ipython",
    "version": 3
   },
   "file_extension": ".py",
   "mimetype": "text/x-python",
   "name": "python",
   "nbconvert_exporter": "python",
   "pygments_lexer": "ipython3",
   "version": "3.7.9"
  }
 },
 "nbformat": 4,
 "nbformat_minor": 4
}
