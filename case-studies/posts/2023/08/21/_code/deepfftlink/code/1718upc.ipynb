{
 "cells": [
  {
   "cell_type": "code",
   "execution_count": null,
   "metadata": {},
   "outputs": [],
   "source": [
    "import pandas as pd\n",
    "import warnings \n",
    "import re\n",
    "\n",
    "warnings.filterwarnings('ignore')\n",
    "import nltk\n",
    "import spacy\n",
    "from nltk.tokenize import word_tokenize\n",
    "from nltk.corpus import stopwords\n",
    "from nltk.stem import PorterStemmer\n",
    "from nltk.stem import WordNetLemmatizer\n",
    "\n",
    "nltk.data.path.append(\"../data/nltk_data/\")\n",
    "porter = PorterStemmer()\n",
    "lemmatizer = WordNetLemmatizer()\n"
   ]
  },
  {
   "cell_type": "code",
   "execution_count": null,
   "metadata": {},
   "outputs": [],
   "source": [
    "# The table keeps only records in 2017 and 2018\n",
    "upc = pd.read_csv(\"../final_data/pd_pos_all1718_public.csv\") #upc"
   ]
  },
  {
   "cell_type": "code",
   "execution_count": null,
   "metadata": {},
   "outputs": [],
   "source": [
    "upc.drop(upc.columns[0], inplace = True, axis = 1)"
   ]
  },
  {
   "cell_type": "code",
   "execution_count": null,
   "metadata": {},
   "outputs": [],
   "source": [
    "ppc = pd.read_csv(\"../final_data/ppc20172018_publictest.csv\") #ppc\n",
    "ppc.drop(ppc.columns[0], inplace = True, axis = 1)\n",
    "ppc.sample(3)"
   ]
  },
  {
   "cell_type": "code",
   "execution_count": null,
   "metadata": {},
   "outputs": [],
   "source": [
    "ppc = ppc.loc[(ppc['ec'] != '-70') & (ppc['ec'] != '-90')]"
   ]
  },
  {
   "cell_type": "code",
   "execution_count": null,
   "metadata": {},
   "outputs": [],
   "source": [
    "valid_upc = set(ppc['upc'].tolist())"
   ]
  },
  {
   "cell_type": "code",
   "execution_count": null,
   "metadata": {},
   "outputs": [],
   "source": [
    "# Keep only the UPCs that appear in PPC table.\n",
    "upc = upc.loc[upc['upc'].isin(valid_upc)]"
   ]
  },
  {
   "cell_type": "code",
   "execution_count": null,
   "metadata": {},
   "outputs": [],
   "source": [
    "# All UPC description has UPC code as suffix, which needs to be removed\n",
    "upc['upc_description'] = upc['upcdesc'].str.split('-').str[0]"
   ]
  },
  {
   "cell_type": "code",
   "execution_count": null,
   "metadata": {},
   "outputs": [],
   "source": [
    "upc = upc.fillna('')"
   ]
  },
  {
   "cell_type": "code",
   "execution_count": null,
   "metadata": {},
   "outputs": [],
   "source": [
    "# More text columns could be combined to the descriptions together\n",
    "\n",
    "upc['deptid'] = upc['deptid'].str.split('-').str[1]\n",
    "upc['aisle'] = upc['aisle'].str.split('-').str[1]\n",
    "upc = upc.astype({\"flavor\" : str, \"deptid\" : str, \"aisle\": str,'category' : str, 'brand':str, 'manufacturer':str, 'parent':str})\n",
    "column_list = ['deptid', 'aisle', 'category']\n",
    "\n",
    "\n",
    "\n",
    "\n",
    "for column in column_list:\n",
    "    upc['upc_description'] = upc['upc_description'] + ' ' + upc[column]"
   ]
  },
  {
   "cell_type": "code",
   "execution_count": null,
   "metadata": {},
   "outputs": [],
   "source": [
    "class Preprocessing():\n",
    "    \n",
    "    def __init__(self,text):\n",
    "        \n",
    "        self.text = text\n",
    "    \n",
    "    def text_lowercase(self):\n",
    "        self.new_text = self.text.lower()\n",
    "        return self.new_text\n",
    "    \n",
    "    def remove_numbers(self):\n",
    "        self.new_text = re.sub('[^A-Za-z0-9]+', ' ', self.new_text)\n",
    "        return self.new_text\n",
    "    \n",
    "    def remove_punctuation(self):\n",
    "        translator = str.maketrans(\"\",\"\", string.punctuation)\n",
    "        slef.new_text = self.new_text.translate(translator)\n",
    "        return self.new_text\n",
    "    \n",
    "    def remove_characters(self):\n",
    "        self.new_text = re.sub('[^A-Za-z0-9]+', ' ', self.new_text)\n",
    "        return self.new_text\n",
    "    \n",
    "    def remove_letters(self):\n",
    "        stopwords_ = stopwords.words('english')+['rfg', 'regular',\"label\",\"private\"]\n",
    "        self.new_text = [i for i in self.new_text if len(i)> 2 if i not in stopwords_]\n",
    "        return self.new_text\n",
    "    \n",
    "    def lemmatize(self):\n",
    "        self.new_text = [lemmatizer.lemmatize(token, 'v') for token in self.new_text]\n",
    "        return self.new_text\n",
    "    \n",
    "    def remove_words(self):\n",
    "        stopwords_ = stopwords.words('english')+['rfg', 'regular',\"label\",\"private\"]\n",
    "        self.new_text = [token for token in self.new_text if token not in stopwords_]\n",
    "        return self.new_text\n",
    "\n",
    "    def tokenize(self):\n",
    "        try:\n",
    "            self.new_text = self.new_text.split(\" \")\n",
    "        except:\n",
    "            self.new_text = []\n",
    "        return self.new_text\n",
    "    \n",
    "def create_tokens(phrase):\n",
    "    pp = Preprocessing(phrase)\n",
    "    \n",
    "    pp.text_lowercase()\n",
    "    pp.remove_numbers()\n",
    "    pp.remove_characters()\n",
    "    pp.tokenize()\n",
    "    pp.remove_letters()\n",
    "    pp_tokens = pp.lemmatize()\n",
    "    pp_tokens = \" \".join(pp_tokens)\n",
    "    return pp_tokens"
   ]
  },
  {
   "cell_type": "code",
   "execution_count": null,
   "metadata": {},
   "outputs": [],
   "source": [
    "from tqdm import tqdm\n",
    "upc_results = []\n",
    "\n",
    "for w in tqdm(upc[\"upc_description\"]):\n",
    "    upc_results.append(create_tokens(w))"
   ]
  },
  {
   "cell_type": "code",
   "execution_count": null,
   "metadata": {},
   "outputs": [],
   "source": [
    "# Keep only the code and description for now\n",
    "upc_cleaned = upc[['upc', 'upc_description']]\n",
    "upc_cleaned['upc_description'] = upc_results"
   ]
  },
  {
   "cell_type": "code",
   "execution_count": null,
   "metadata": {},
   "outputs": [],
   "source": [
    "# This is the description field after cleaning\n",
    "upc_cleaned.iloc[0]['upc_description']"
   ]
  },
  {
   "cell_type": "code",
   "execution_count": null,
   "metadata": {},
   "outputs": [],
   "source": [
    "# Rename the column for consistency\n",
    "upc_cleaned = upc_cleaned.rename(columns={'upc': 'upc_code'})"
   ]
  },
  {
   "cell_type": "code",
   "execution_count": null,
   "metadata": {},
   "outputs": [],
   "source": [
    "len(upc_cleaned[\"upc_code\"].unique())"
   ]
  },
  {
   "cell_type": "code",
   "execution_count": null,
   "metadata": {},
   "outputs": [],
   "source": [
    "# Some food descriptions are different across the years. They will be dropped here for now. \n",
    "# By default, 2015 record will be dropped\n",
    "upc_cleaned = upc_cleaned.drop_duplicates('upc_code')"
   ]
  },
  {
   "cell_type": "code",
   "execution_count": null,
   "metadata": {},
   "outputs": [],
   "source": [
    "# Output the table\n",
    "upc_cleaned.to_csv('../final_data/1718upc_cleaned.csv', index=False)"
   ]
  },
  {
   "cell_type": "code",
   "execution_count": null,
   "metadata": {},
   "outputs": [],
   "source": [
    "ppc.to_csv('../final_data/1718ppc_cleaned.csv', index=False)"
   ]
  }
 ],
 "metadata": {
  "kernelspec": {
   "display_name": "Python 3",
   "language": "python",
   "name": "python3"
  },
  "language_info": {
   "codemirror_mode": {
    "name": "ipython",
    "version": 3
   },
   "file_extension": ".py",
   "mimetype": "text/x-python",
   "name": "python",
   "nbconvert_exporter": "python",
   "pygments_lexer": "ipython3",
   "version": "3.7.9"
  }
 },
 "nbformat": 4,
 "nbformat_minor": 5
}
