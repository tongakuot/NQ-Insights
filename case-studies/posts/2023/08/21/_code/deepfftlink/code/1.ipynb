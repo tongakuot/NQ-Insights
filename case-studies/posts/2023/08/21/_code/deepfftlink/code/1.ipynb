{
 "cells": [
  {
   "cell_type": "code",
   "execution_count": null,
   "metadata": {},
   "outputs": [],
   "source": [
    "import pandas as pd\n",
    "import numpy as np\n",
    "from model import *\n",
    "import math"
   ]
  },
  {
   "cell_type": "code",
   "execution_count": null,
   "metadata": {},
   "outputs": [],
   "source": [
    "data_path = \"../final_data/\"\n",
    "category_data = pd.read_csv(data_path + \"all_category_ec.csv\")\n",
    "neg_rate = pd.read_csv(data_path + \"all_-99_rate.csv\")\n",
    "public_upc = pd.read_csv(data_path + \"pd_pos_all1718_public.csv\")\n",
    "upc = pd.read_csv(data_path + \"1718upc_cleaned.csv\")\n",
    "ec = pd.read_csv(data_path + \"1718ec_cleaned.csv\")"
   ]
  },
  {
   "cell_type": "code",
   "execution_count": null,
   "metadata": {},
   "outputs": [],
   "source": [
    "# just load 1718 ppc data for data check, will remove it later\n",
    "ppc = pd.read_csv(data_path + \"1718ppc_cleaned.csv\")"
   ]
  },
  {
   "cell_type": "code",
   "execution_count": null,
   "metadata": {},
   "outputs": [],
   "source": [
    "# Jason: This is EC code, which is public data. The negative numbers in the rest of the notebook are the same.\n",
    "category_data = category_data.drop([\"-90.0\",\"-70.0\"],axis = 1)"
   ]
  },
  {
   "cell_type": "code",
   "execution_count": null,
   "metadata": {},
   "outputs": [],
   "source": [
    "#combine category information from original upc data source\n",
    "upc=upc.merge(public_upc,left_on=\"upc_code\",right_on=\"upc\",how = \"left\").drop_duplicates(subset=[\"upc_code\"])[[\"upc_code\",\"upc_description\",\"category\"]]\n",
    "upc.index = range(upc.shape[0])"
   ]
  },
  {
   "cell_type": "code",
   "execution_count": null,
   "metadata": {},
   "outputs": [],
   "source": [
    "#list context category types\n",
    "ca_list = category_data[\"category\"].tolist()\n",
    "#list context ec types\n",
    "ca_ec = category_data.columns.tolist()[1:]\n",
    "ca_ec = [int(float(i)) for i in ca_ec]\n",
    "#lsit ec types in data we want to match \n",
    "ec_list = ec.ec_code.tolist()"
   ]
  },
  {
   "cell_type": "code",
   "execution_count": null,
   "metadata": {},
   "outputs": [],
   "source": [
    "def out_list(a,b):\n",
    "    return list(set(a)-set(b))\n",
    "def intersect(a,b):\n",
    "    return list(set(a)&set(b))"
   ]
  },
  {
   "cell_type": "code",
   "execution_count": null,
   "metadata": {},
   "outputs": [],
   "source": [
    "out_ec = out_list(ec_list,ca_ec)"
   ]
  },
  {
   "cell_type": "code",
   "execution_count": null,
   "metadata": {},
   "outputs": [],
   "source": [
    "def get_pot_ec(upc,ec):\n",
    "    cat = upc.iloc[0,2]\n",
    "    if cat!=cat: #check missing category\n",
    "        return -80\n",
    "    elif cat not in ca_list:\n",
    "        return ec.ec_code.tolist()\n",
    "    else:\n",
    "        x=category_data[category_data.category==cat]\n",
    "        cat_ec = [i for i in x.columns if (x[i]==1).all()]\n",
    "        all_ec = cat_ec + out_ec\n",
    "        if len(cat_ec)<=5:\n",
    "            return cat_ec\n",
    "        elif \"-99.0\" not in cat_ec:\n",
    "                return all_ec\n",
    "        else:\n",
    "            rate = neg_rate[neg_rate[\"category\"]==cat].iloc[0,3]\n",
    "            if rate>=0.1:\n",
    "                return [\"-99.0\"]+all_ec\n",
    "            else:\n",
    "                return all_ec\n",
    "            "
   ]
  },
  {
   "cell_type": "code",
   "execution_count": null,
   "metadata": {},
   "outputs": [],
   "source": [
    "upc = pd.read_csv('../final_data/subsets/subset1.csv')"
   ]
  },
  {
   "cell_type": "code",
   "execution_count": null,
   "metadata": {},
   "outputs": [],
   "source": [
    "\n",
    "data_to_save = pd.DataFrame(columns = ['upc', 'ec', 'confidence'])\n",
    "for i in tqdm(range(upc.shape[0])):\n",
    "    #%run model.py\n",
    "    c = get_pot_ec(upc.iloc[[i]],ec)\n",
    "    if c==-80:\n",
    "        # We are quite sure these upc's ec is -80\n",
    "        output = pd.DataFrame([[upc.iloc[i,0],-80,1]],columns = ['upc', 'ec', 'confidence'])\n",
    "    elif len(c)<=5:\n",
    "        ec_data = ec[ec.ec_code.isin([int(float(j)) for j in c])]\n",
    "        if ec_data.shape[0]==0:\n",
    "            output = pd.DataFrame(columns = ['upc', 'ec', 'confidence'])\n",
    "        else:\n",
    "            output = test_other_data(upc.iloc[[i]],ec_data,0.738,0.262)  #0.738,0.262\n",
    "        if \"-99.0\" in c:\n",
    "            if neg_rate[neg_rate.category==upc.iloc[i,2]].shape[0]!=0:\n",
    "                output = pd.concat([output,pd.DataFrame([[upc.iloc[i,0],-99,float(neg_rate[neg_rate.category==upc.iloc[i,2]][\"-99_rate\"])]],columns = ['upc', 'ec', 'confidence'])])\n",
    "            else:\n",
    "                output = pd.concat([output,pd.DataFrame([[upc.iloc[i,0],-99,1]],columns = ['upc', 'ec', 'confidence'])])\n",
    "    else:\n",
    "        if len([i for i in c if i==\"-99.0\"])==2:\n",
    "            ec_data = ec[ec.ec_code.isin([int(float(j)) for j in c])]\n",
    "            output = test_other_data(upc.iloc[[i]],ec_data,0.738,0.262).iloc[:4,:]\n",
    "            output = pd.concat([output,pd.DataFrame([[upc.iloc[i,0],-99,float(neg_rate[neg_rate.category==upc.iloc[i,2]][\"-99_rate\"])]],columns = ['upc', 'ec', 'confidence'])])\n",
    "        else:\n",
    "            ec_data = ec[ec.ec_code.isin([int(float(j)) for j in c])]\n",
    "            output = test_other_data(upc.iloc[[i]],ec_data,0.738,0.262)\n",
    "    if output.shape[0]<5:\n",
    "        output2 = test_other_data(upc.iloc[[i]],ec[~ec.ec_code.isin(output.ec)],0.738,0.262).iloc[:(5-output.shape[0]),:]\n",
    "        output = pd.concat([output,output2])\n",
    "    output = output.sort_values([\"confidence\"],ascending=False)\n",
    "    data_to_save = pd.concat([data_to_save, output])\n",
    "    data_to_save.index = range(data_to_save.shape[0]) \n",
    "    \n",
    "    \n",
    "    \n",
    "    \n",
    "    #save data each step(we do this because workspace may auto close)\n",
    "    data_to_save.to_csv(\"../final_data/subset_result/submission1.csv\",index = False)\n",
    "    ground_truth = ppc[ppc.upc.isin(data_to_save.upc.unique())]\n",
    "    ground_truth.to_csv(\"../final_data/subset_result/ground_truth1.csv\",index = False)\n",
    "print(\"finish\")"
   ]
  }
 ],
 "metadata": {
  "kernelspec": {
   "display_name": "Python 3",
   "language": "python",
   "name": "python3"
  },
  "language_info": {
   "codemirror_mode": {
    "name": "ipython",
    "version": 3
   },
   "file_extension": ".py",
   "mimetype": "text/x-python",
   "name": "python",
   "nbconvert_exporter": "python",
   "pygments_lexer": "ipython3",
   "version": "3.7.9"
  }
 },
 "nbformat": 4,
 "nbformat_minor": 5
}
