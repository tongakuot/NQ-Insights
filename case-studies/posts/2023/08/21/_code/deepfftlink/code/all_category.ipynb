{
 "cells": [
  {
   "cell_type": "code",
   "execution_count": null,
   "metadata": {},
   "outputs": [],
   "source": [
    "import pandas as pd \n",
    "import numpy as np\n",
    "import nltk\n",
    "import spacy\n",
    "from nltk.tokenize import word_tokenize\n",
    "from nltk.corpus import stopwords\n",
    "from nltk.stem import PorterStemmer\n",
    "from nltk.stem import WordNetLemmatizer\n",
    "\n",
    "porter = PorterStemmer()\n",
    "lemmatizer = WordNetLemmatizer()\n"
   ]
  },
  {
   "cell_type": "code",
   "execution_count": null,
   "metadata": {},
   "outputs": [],
   "source": [
    "ppc = pd.read_csv(\"../final_data/1718ppc_cleaned.csv\")\n",
    "upc = pd.read_csv(\"../final_data/pd_pos_all1718_public.csv\") #upc"
   ]
  },
  {
   "cell_type": "code",
   "execution_count": null,
   "metadata": {},
   "outputs": [],
   "source": [
    "upc=upc.merge(ppc,how=\"inner\",on=\"upc\")\n",
    "upc = upc.drop_duplicates('upc')\n",
    "upc.index = range(upc.shape[0])"
   ]
  },
  {
   "cell_type": "code",
   "execution_count": null,
   "metadata": {},
   "outputs": [],
   "source": [
    "ppc2 = pd.read_csv(\"../final_data/1516ppc_cleaned.csv\")\n",
    "upc2 = pd.read_csv(\"../final_data/pd_pos_all1516.csv\") #upc\n",
    "upc2=upc2.merge(ppc2,how=\"inner\",on=\"upc\")\n",
    "upc2 = upc2.drop_duplicates('upc')\n",
    "upc2.index = range(upc2.shape[0])"
   ]
  },
  {
   "cell_type": "code",
   "execution_count": null,
   "metadata": {},
   "outputs": [],
   "source": [
    "upc=upc.iloc[:,1:]"
   ]
  },
  {
   "cell_type": "code",
   "execution_count": null,
   "metadata": {},
   "outputs": [],
   "source": [
    "upc = pd.concat([upc,upc2])"
   ]
  },
  {
   "cell_type": "code",
   "execution_count": null,
   "metadata": {},
   "outputs": [],
   "source": [
    "def get_sub(t,u2):\n",
    "    result =pd.DataFrame(columns = [t]+[str(i) for i in u2.ec.unique().tolist()],index = range(len(u2[t].unique())))\n",
    "    result[t] = u2[t].unique()\n",
    "    for i in range(len(u2[t].unique())):\n",
    "        a = u2[u2[t] == u2[t].unique()[i]]\n",
    "        b = a.ec.unique()\n",
    "        for j in b:\n",
    "            result.iloc[i,result.columns.get_loc(str(j))]= 1\n",
    "    result = result.fillna(0)\n",
    "    return result\n",
    "category_data = get_sub('category',upc)\n",
    "deptid_data =  get_sub('deptid',upc)\n",
    "aisle_data = get_sub(\"aisle\",upc)"
   ]
  },
  {
   "cell_type": "code",
   "execution_count": null,
   "metadata": {},
   "outputs": [],
   "source": [
    "category_data=category_data.drop(170)\n",
    "category_data=category_data.reset_index(drop=True)\n",
    "# If category is missing, after checking data, if upcdesc is not NA, we can directory set ec as -80."
   ]
  },
  {
   "cell_type": "code",
   "execution_count": null,
   "metadata": {},
   "outputs": [],
   "source": [
    "category_data.to_csv(\"../final_data/all_category_ec.csv\",index = False)\n",
    "deptid_data.to_csv(\"../final_data/all_deptid_ec.csv\",index = False)\n",
    "aisle_data.to_csv(\"../final_data/all_aisle_ec.csv\",index = False)"
   ]
  },
  {
   "cell_type": "code",
   "execution_count": null,
   "metadata": {},
   "outputs": [],
   "source": [
    "category_data = get_sub('category',upc2)\n",
    "deptid_data =  get_sub('deptid',upc2)\n",
    "aisle_data = get_sub(\"aisle\",upc2)\n",
    "category_data=category_data.drop(category_data[category_data[\"category\"]==0].index[0])\n",
    "category_data=category_data.reset_index(drop=True)\n",
    "# If category is missing, after checking data, if upcdesc is not NA, we can directory set ec as -80.\n"
   ]
  },
  {
   "cell_type": "code",
   "execution_count": null,
   "metadata": {},
   "outputs": [],
   "source": [
    "category_data.to_csv(\"../final_data/1516_category_ec.csv\",index = False)\n",
    "deptid_data.to_csv(\"../final_data/1516_deptid_ec.csv\",index = False)\n",
    "aisle_data.to_csv(\"../final_data/1516_aisle_ec.csv\",index = False)"
   ]
  },
  {
   "cell_type": "code",
   "execution_count": null,
   "metadata": {},
   "outputs": [],
   "source": [
    "def get_rate(data):\n",
    "    aa = pd.DataFrame(data[data[\"ec\"]==-99.0].groupby(\"category\").count().iloc[:,1])\n",
    "    bb = pd.DataFrame(data[data[\"category\"].isin(aa.index)].groupby(\"category\").count().iloc[:,1])\n",
    "    cc = pd.concat([aa,bb],axis=1)\n",
    "    cc.columns = [\"count_-99\",\"total\"]\n",
    "    cc[\"-99_rate\"]= cc[\"count_-99\"]/cc[\"total\"]\n",
    "    cc = cc.sort_values(by=[\"-99_rate\"],ascending=False)\n",
    "    return cc"
   ]
  },
  {
   "cell_type": "code",
   "execution_count": null,
   "metadata": {},
   "outputs": [],
   "source": [
    "cc = get_rate(upc2)"
   ]
  },
  {
   "cell_type": "code",
   "execution_count": null,
   "metadata": {},
   "outputs": [],
   "source": [
    "xx = get_rate(upc)"
   ]
  },
  {
   "cell_type": "code",
   "execution_count": null,
   "metadata": {},
   "outputs": [],
   "source": [
    "xx=xx.drop(\"VARIETY\")"
   ]
  },
  {
   "cell_type": "code",
   "execution_count": null,
   "metadata": {},
   "outputs": [],
   "source": [
    "xx=xx.reset_index()\n",
    "cc=cc.reset_index()"
   ]
  },
  {
   "cell_type": "code",
   "execution_count": null,
   "metadata": {},
   "outputs": [],
   "source": [
    "cc.to_csv(\"../final_data/1516_-99_rate.csv\",index=False)\n",
    "xx.to_csv(\"../final_data/all_-99_rate.csv\",index=False)"
   ]
  },
  {
   "cell_type": "code",
   "execution_count": null,
   "metadata": {},
   "outputs": [],
   "source": []
  }
 ],
 "metadata": {
  "kernelspec": {
   "display_name": "Python 3",
   "language": "python",
   "name": "python3"
  },
  "language_info": {
   "codemirror_mode": {
    "name": "ipython",
    "version": 3
   },
   "file_extension": ".py",
   "mimetype": "text/x-python",
   "name": "python",
   "nbconvert_exporter": "python",
   "pygments_lexer": "ipython3",
   "version": "3.7.9"
  }
 },
 "nbformat": 4,
 "nbformat_minor": 5
}
